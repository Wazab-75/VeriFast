{
 "cells": [
  {
   "cell_type": "markdown",
   "id": "2813cc99",
   "metadata": {},
   "source": [
    "# Using the Custom Hardware Image Generator\n",
    "\n",
    "This notebook demonstrates hardware generation of an image stream and displaying it on the HDMI output. Before running it you will need to compile the example overlay with the frame generator in Verilog. Two files are generated:\n",
    "- a `.bit` file, containing the FPGA configuration bitstream\n",
    "- a `.hwh` (hardware handoff) file, containing information about the module heirarchy and memory map\n",
    "\n",
    "Copy both files to the user home directory on the Pynq operating system. Then load them (loading the `.bit` also reads the `.hwh` of the same name):"
   ]
  },
  {
   "cell_type": "code",
   "execution_count": null,
   "id": "4dfaf0b8",
   "metadata": {
    "scrolled": false
   },
   "outputs": [],
   "source": [
    "from pynq import Overlay\n",
    "from pynq.lib.video import *\n",
    "import PIL.Image\n",
    "import time\n",
    "\n",
    "overlay = Overlay(\"/home/xilinx/red_j3.bit\")"
   ]
  },
  {
   "cell_type": "markdown",
   "id": "5943a220",
   "metadata": {},
   "source": [
    "The overlay object is automatically configured with a Python attribute structure that allows you to access the hardware as Python objects. Appropriate driver classes are instantiated where a hardware block is recognised by the Pynq library. Here we get a convenient handle to the VDMA connected to the pixel generator:"
   ]
  },
  {
   "cell_type": "code",
   "execution_count": null,
   "id": "3786e8e2",
   "metadata": {
    "scrolled": false
   },
   "outputs": [],
   "source": [
    "imgen_vdma = overlay.video.axi_vdma_0.readchannel"
   ]
  },
  {
   "cell_type": "markdown",
   "id": "3b555f0c",
   "metadata": {},
   "source": [
    "Next, the image generator DMA is configured and started:"
   ]
  },
  {
   "cell_type": "code",
   "execution_count": null,
   "id": "fb1279de",
   "metadata": {
    "scrolled": false
   },
   "outputs": [],
   "source": [
    "videoMode = common.VideoMode(1920, 1080, 24)\n",
    "imgen_vdma.mode = videoMode\n",
    "imgen_vdma.start()"
   ]
  },
  {
   "cell_type": "code",
   "execution_count": null,
   "id": "fb97a382",
   "metadata": {
    "scrolled": false
   },
   "outputs": [],
   "source": [
    "#frame = imgen_vdma.readframe()"
   ]
  },
  {
   "cell_type": "code",
   "execution_count": null,
   "id": "d18f6d41",
   "metadata": {
    "scrolled": false
   },
   "outputs": [],
   "source": [
    "#image = PIL.Image.fromarray(frame)\n",
    "#image"
   ]
  },
  {
   "cell_type": "code",
   "execution_count": null,
   "id": "7554531e",
   "metadata": {
    "scrolled": false
   },
   "outputs": [],
   "source": [
    "pixgen = overlay.pixel_generator_0\n",
    "pixgen.register_map"
   ]
  },
  {
   "cell_type": "markdown",
   "id": "2fef7455",
   "metadata": {},
   "source": [
    "The VDMA continuously reads frames into a cycle of memory buffers. You can take software ownership of a frame and get a NumPy handle for it:"
   ]
  },
  {
   "cell_type": "code",
   "execution_count": null,
   "id": "dd4d1cfa",
   "metadata": {
    "scrolled": false
   },
   "outputs": [],
   "source": [
    "def shift(int):\n",
    "    return (int * (1 << 24))\n",
    "\n",
    "def zoom(int):\n",
    "    return (104858 / int)"
   ]
  },
  {
   "cell_type": "code",
   "execution_count": null,
   "id": "7b49f37b",
   "metadata": {
    "scrolled": false
   },
   "outputs": [],
   "source": [
    "def configure_mandelbrot(start_x_0, start_y_0, step_size, max_iter, m_or_j, colour, x_res, y_res, cx=shift(-0.8), cy=shift(0.156)):\n",
    "    pixgen.register_map.gp1 = start_x_0\n",
    "    pixgen.register_map.gp2 = start_y_0\n",
    "    pixgen.register_map.gp3 = step_size\n",
    "    pixgen.register_map.gp4 = max_iter + (m_or_j << 16) + (colour << 18)\n",
    "    pixgen.register_map.gp5 = x_res + (y_res << 16)\n",
    "    pixgen.register_map.gp6 = cx\n",
    "    pixgen.register_map.gp7 = cy\n"
   ]
  },
  {
   "cell_type": "code",
   "execution_count": null,
   "id": "3699765e",
   "metadata": {
    "scrolled": false
   },
   "outputs": [],
   "source": [
    "print(shift(-2))\n",
    "#0x1999A\n",
    "#104858\n",
    "configure_mandelbrot(shift(-2), shift(1.5), 46656, 60000, 0, 2, 1920, 1080, shift(-0.8), shift(0.156))\n",
    "time.sleep(0.05)\n",
    "pixgen.register_map"
   ]
  },
  {
   "cell_type": "code",
   "execution_count": null,
   "id": "0adb35d1",
   "metadata": {
    "scrolled": false
   },
   "outputs": [],
   "source": [
    "a = 0\n",
    "import time\n",
    "\n",
    "while((int(pixgen.register_map.gp4) & (1<<17)) == 0):\n",
    "      a = a+1\n",
    "\n",
    "start = time.time()\n",
    "while((int(pixgen.register_map.gp4) & (1<<17)) != 0):\n",
    "      a = a+1\n",
    "\n",
    "end = time.time()\n",
    "\n",
    "a\n",
    "end - start"
   ]
  },
  {
   "cell_type": "code",
   "execution_count": null,
   "id": "f59da17d",
   "metadata": {
    "scrolled": false
   },
   "outputs": [],
   "source": [
    "frame1 = imgen_vdma.readframe()"
   ]
  },
  {
   "cell_type": "code",
   "execution_count": null,
   "id": "7c3dd76a",
   "metadata": {
    "scrolled": false
   },
   "outputs": [],
   "source": [
    "image1 = PIL.Image.fromarray(frame1)\n",
    "image1"
   ]
  },
  {
   "cell_type": "code",
   "execution_count": null,
   "id": "4cef7955",
   "metadata": {
    "scrolled": false
   },
   "outputs": [],
   "source": [
    "configure_mandelbrot(shift(-2.5), shift(1.5), zoom(1), 100, 1, 0, 640, 480, shift(-0.8), shift(0.156))\n",
    "time.sleep(0.05)\n",
    "pixgen.register_map"
   ]
  },
  {
   "cell_type": "code",
   "execution_count": null,
   "id": "4ab9f148",
   "metadata": {
    "scrolled": false
   },
   "outputs": [],
   "source": [
    "frame2 = imgen_vdma.readframe()"
   ]
  },
  {
   "cell_type": "code",
   "execution_count": null,
   "id": "928fe1e6",
   "metadata": {
    "scrolled": false
   },
   "outputs": [],
   "source": [
    "image2 = PIL.Image.fromarray(frame2)\n",
    "image2"
   ]
  },
  {
   "cell_type": "markdown",
   "id": "b35ebb3f",
   "metadata": {},
   "source": [
    "### HDMI Output\n",
    "The HDMI output is handled with a wrapper object that configures both the VDMA and the HDMI output generator.\n",
    "\n",
    "A bit of hacking is needed here: the image generator and its VDMA are in the same part of the design hierarchy (`video`) as the HDMI interface. The HDMI output wrapper `overlay.video.hdmi_out` picks up the image generator VDMA, not the one connected to HDMI, so that attribute needs to be changed to point to the correct VDMA.\n",
    "\n",
    "After that, the HDMI output is configured and started:"
   ]
  },
  {
   "cell_type": "code",
   "execution_count": null,
   "id": "9d2a3279",
   "metadata": {
    "scrolled": false
   },
   "outputs": [],
   "source": [
    "hdmi_out = overlay.video.hdmi_out\n",
    "hdmi_out._vdma = overlay.video.axi_vdma #Use the correct VDMA!\n",
    "hdmi_out.configure(videoMode)\n",
    "hdmi_out.start()"
   ]
  },
  {
   "cell_type": "markdown",
   "id": "c0319236",
   "metadata": {},
   "source": [
    "Now our frame can be sent to the HDMI output. At this stage ownership of the frame is transferred to the hardware, so it's no longer accessible to Python code. Connect a display to the HDMI port and you should see it."
   ]
  },
  {
   "cell_type": "code",
   "execution_count": null,
   "id": "89470cba",
   "metadata": {
    "scrolled": false
   },
   "outputs": [],
   "source": [
    "hdmi_out.writeframe(frame1)"
   ]
  },
  {
   "cell_type": "markdown",
   "id": "5637fc30",
   "metadata": {},
   "source": [
    "### MMIO Interface with Pixel Generator\n",
    "You'll need to pass parameters to your image generator to change the visualisation at runtime. This is done with memory-mapped input/output, which allows software to modify registers in the logic. First get a handle to the Pixel Generator block and print its dictionary of registers:"
   ]
  },
  {
   "cell_type": "code",
   "execution_count": null,
   "id": "2d5307f0",
   "metadata": {
    "scrolled": false
   },
   "outputs": [],
   "source": [
    "pixgen = overlay.pixel_generator_0\n",
    "pixgen.register_map"
   ]
  },
  {
   "cell_type": "markdown",
   "id": "c6648d5a",
   "metadata": {},
   "source": [
    "The registers can be modified directly as Python objects"
   ]
  },
  {
   "cell_type": "code",
   "execution_count": null,
   "id": "d2f79935",
   "metadata": {
    "scrolled": false
   },
   "outputs": [],
   "source": [
    "pixgen.register_map.gp0 = 0x1234\n",
    "print(pixgen.register_map.gp0)"
   ]
  },
  {
   "cell_type": "markdown",
   "id": "1d2791c4",
   "metadata": {},
   "source": [
    "Data that you write to register `n` is is available in `regfile[n]` in your logic"
   ]
  },
  {
   "cell_type": "markdown",
   "id": "4486fa82",
   "metadata": {},
   "source": [
    "### Cleanup\n",
    "Finally, stop the VDMAs so that the system is in a stable state at the end of the notebook"
   ]
  },
  {
   "cell_type": "code",
   "execution_count": null,
   "id": "463b11d7",
   "metadata": {
    "scrolled": false
   },
   "outputs": [],
   "source": [
    "imgen_vdma.stop()\n",
    "hdmi_out.close()"
   ]
  },
  {
   "cell_type": "markdown",
   "id": "82f92bb9",
   "metadata": {},
   "source": [
    "Todo:\n",
    "- [ ] Copy multiple frames and find frame rate\n",
    "- [ ] Link input and output for continuous video output without software control"
   ]
  }
 ],
 "metadata": {
  "kernelspec": {
   "display_name": "Python 3 (ipykernel)",
   "language": "python",
   "name": "python3"
  },
  "language_info": {
   "codemirror_mode": {
    "name": "ipython",
    "version": 3
   },
   "file_extension": ".py",
   "mimetype": "text/x-python",
   "name": "python",
   "nbconvert_exporter": "python",
   "pygments_lexer": "ipython3",
   "version": "3.10.4"
  }
 },
 "nbformat": 4,
 "nbformat_minor": 5
}
